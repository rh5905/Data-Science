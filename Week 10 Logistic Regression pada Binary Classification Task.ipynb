{
 "cells": [
  {
   "cell_type": "markdown",
   "id": "86334ef2-6530-4853-a073-c5cb4e826074",
   "metadata": {},
   "source": [
    "# 12 Logistic Regression pada Binary Classification Task"
   ]
  },
  {
   "cell_type": "markdown",
   "id": "22bd4174-789f-4cad-b06d-4c58b5bb4aed",
   "metadata": {},
   "source": [
    "## Dataset: SMS Spam Collection Data Set"
   ]
  },
  {
   "cell_type": "code",
   "execution_count": 7,
   "id": "206a16ce-6022-4c97-9b78-b33b9e0a7e3b",
   "metadata": {},
   "outputs": [
    {
     "data": {
      "text/html": [
       "<div>\n",
       "<style scoped>\n",
       "    .dataframe tbody tr th:only-of-type {\n",
       "        vertical-align: middle;\n",
       "    }\n",
       "\n",
       "    .dataframe tbody tr th {\n",
       "        vertical-align: top;\n",
       "    }\n",
       "\n",
       "    .dataframe thead th {\n",
       "        text-align: right;\n",
       "    }\n",
       "</style>\n",
       "<table border=\"1\" class=\"dataframe\">\n",
       "  <thead>\n",
       "    <tr style=\"text-align: right;\">\n",
       "      <th></th>\n",
       "      <th>label</th>\n",
       "      <th>sms</th>\n",
       "    </tr>\n",
       "  </thead>\n",
       "  <tbody>\n",
       "    <tr>\n",
       "      <th>0</th>\n",
       "      <td>ham</td>\n",
       "      <td>Go until jurong point, crazy.. Available only ...</td>\n",
       "    </tr>\n",
       "    <tr>\n",
       "      <th>1</th>\n",
       "      <td>ham</td>\n",
       "      <td>Ok lar... Joking wif u oni...</td>\n",
       "    </tr>\n",
       "    <tr>\n",
       "      <th>2</th>\n",
       "      <td>spam</td>\n",
       "      <td>Free entry in 2 a wkly comp to win FA Cup fina...</td>\n",
       "    </tr>\n",
       "    <tr>\n",
       "      <th>3</th>\n",
       "      <td>ham</td>\n",
       "      <td>U dun say so early hor... U c already then say...</td>\n",
       "    </tr>\n",
       "    <tr>\n",
       "      <th>4</th>\n",
       "      <td>ham</td>\n",
       "      <td>Nah I don't think he goes to usf, he lives aro...</td>\n",
       "    </tr>\n",
       "  </tbody>\n",
       "</table>\n",
       "</div>"
      ],
      "text/plain": [
       "  label                                                sms\n",
       "0   ham  Go until jurong point, crazy.. Available only ...\n",
       "1   ham                      Ok lar... Joking wif u oni...\n",
       "2  spam  Free entry in 2 a wkly comp to win FA Cup fina...\n",
       "3   ham  U dun say so early hor... U c already then say...\n",
       "4   ham  Nah I don't think he goes to usf, he lives aro..."
      ]
     },
     "execution_count": 7,
     "metadata": {},
     "output_type": "execute_result"
    }
   ],
   "source": [
    "import pandas as pd\n",
    "df=pd.read_csv(r\"C:\\Users\\GAMING3\\Data Science\\SMSSpamCollection\",\n",
    "                 sep='\\t',\n",
    "                 header=None,\n",
    "                 names=['label','sms'])\n",
    "df.head()"
   ]
  },
  {
   "cell_type": "code",
   "execution_count": 9,
   "id": "6823c2fb-a068-49ca-b6c5-87ea50fc27d2",
   "metadata": {},
   "outputs": [
    {
     "data": {
      "text/plain": [
       "label\n",
       "ham     4825\n",
       "spam     747\n",
       "Name: count, dtype: int64"
      ]
     },
     "execution_count": 9,
     "metadata": {},
     "output_type": "execute_result"
    }
   ],
   "source": [
    "df['label'].value_counts()"
   ]
  },
  {
   "cell_type": "markdown",
   "id": "58243fda-7187-4c05-8478-bbd25060c1c5",
   "metadata": {},
   "source": [
    "## Training & Testing Dataset"
   ]
  },
  {
   "cell_type": "code",
   "execution_count": 12,
   "id": "45b3a419-2696-4d3a-8967-e027b32736d5",
   "metadata": {},
   "outputs": [
    {
     "data": {
      "text/plain": [
       "array(['ham', 'spam'], dtype='<U4')"
      ]
     },
     "execution_count": 12,
     "metadata": {},
     "output_type": "execute_result"
    }
   ],
   "source": [
    "from sklearn.preprocessing import LabelBinarizer\n",
    "X=df['sms'].values\n",
    "y=df['label'].values\n",
    "lb= LabelBinarizer()\n",
    "y =lb.fit_transform(y).ravel()\n",
    "lb.classes_"
   ]
  },
  {
   "cell_type": "code",
   "execution_count": 14,
   "id": "650f86b8-3625-4442-838b-af18f122d0f7",
   "metadata": {},
   "outputs": [
    {
     "name": "stdout",
     "output_type": "stream",
     "text": [
      "['Its going good...no problem..but still need little experience to understand american customer voice...'\n",
      " 'U have a secret admirer. REVEAL who thinks U R So special. Call 09065174042. To opt out Reply REVEAL STOP. 1.50 per msg recd. Cust care 07821230901'\n",
      " 'Ok...' ...\n",
      " \"For ur chance to win a £250 cash every wk TXT: ACTION to 80608. T's&C's www.movietrivia.tv custcare 08712405022, 1x150p/wk\"\n",
      " 'R U &SAM P IN EACHOTHER. IF WE MEET WE CAN GO 2 MY HOUSE'\n",
      " 'Mm feeling sleepy. today itself i shall get that dear'] \n",
      "\n",
      "[0 1 0 ... 1 0 0]\n"
     ]
    }
   ],
   "source": [
    "from sklearn.model_selection import train_test_split\n",
    "X_train, X_test, y_train, y_test = train_test_split(X,y,test_size=0.25,random_state=0)\n",
    "print(X_train,'\\n')\n",
    "print(y_train)"
   ]
  },
  {
   "cell_type": "markdown",
   "id": "8318e0d9-6237-4834-8d35-9bcea102ee6a",
   "metadata": {},
   "source": [
    "## Feature Extraction dengan TF-IDF"
   ]
  },
  {
   "cell_type": "code",
   "execution_count": 17,
   "id": "8f45c6fc-a3b8-4369-8f4a-a931690d4839",
   "metadata": {},
   "outputs": [
    {
     "name": "stdout",
     "output_type": "stream",
     "text": [
      "  (0, 6903)\t0.3591386422223876\n",
      "  (0, 2006)\t0.2898082580285881\n",
      "  (0, 900)\t0.4114867709157148\n",
      "  (0, 6739)\t0.3546359942830148\n",
      "  (0, 2554)\t0.3825278811525034\n",
      "  (0, 3926)\t0.3126721340000456\n",
      "  (0, 4453)\t0.2297719954323795\n",
      "  (0, 5123)\t0.308974289326673\n",
      "  (0, 3007)\t0.21421364306658514\n",
      "  (0, 2997)\t0.23173982975834367\n",
      "  (1, 36)\t0.28902673040368515\n",
      "  (1, 1548)\t0.18167737976542422\n",
      "  (1, 2003)\t0.2711077935907125\n",
      "  (1, 5301)\t0.2711077935907125\n",
      "  (1, 4358)\t0.17341410292348694\n",
      "  (1, 532)\t0.20186022353306565\n",
      "  (1, 6131)\t0.16142609035094446\n",
      "  (1, 5394)\t0.16464655071448758\n",
      "  (1, 4677)\t0.24039776602646504\n",
      "  (1, 216)\t0.28902673040368515\n",
      "  (1, 6013)\t0.20089911182610476\n",
      "  (1, 6472)\t0.24039776602646504\n",
      "  (1, 5441)\t0.5009783758205715\n",
      "  (1, 799)\t0.25048918791028574\n",
      "  (1, 5642)\t0.24344998442301355\n",
      "  :\t:\n",
      "  (4176, 343)\t0.2811068572055718\n",
      "  (4176, 107)\t0.29968668460649284\n",
      "  (4176, 2004)\t0.25589560236817055\n",
      "  (4176, 4350)\t0.29968668460649284\n",
      "  (4176, 637)\t0.29968668460649284\n",
      "  (4176, 7114)\t0.4512018097459442\n",
      "  (4176, 365)\t0.2388005587702937\n",
      "  (4176, 1612)\t0.21138425595332702\n",
      "  (4176, 779)\t0.2811068572055718\n",
      "  (4176, 7195)\t0.17892283441772988\n",
      "  (4176, 1569)\t0.18895085073406012\n",
      "  (4176, 7083)\t0.19523751585154273\n",
      "  (4176, 6684)\t0.22114159453800114\n",
      "  (4176, 6693)\t0.16491299289150899\n",
      "  (4176, 6792)\t0.1407604617250961\n",
      "  (4177, 2362)\t0.6158854885899457\n",
      "  (4177, 5565)\t0.5506066649743346\n",
      "  (4177, 4177)\t0.3636187667918345\n",
      "  (4177, 3319)\t0.43046342221720785\n",
      "  (4178, 5883)\t0.548491137555895\n",
      "  (4178, 4279)\t0.4530624713751054\n",
      "  (4178, 5720)\t0.3963527249882828\n",
      "  (4178, 6555)\t0.2897850627168302\n",
      "  (4178, 2641)\t0.3993042639531407\n",
      "  (4178, 2068)\t0.3055766821331892\n"
     ]
    }
   ],
   "source": [
    "from sklearn.feature_extraction.text import TfidfVectorizer\n",
    "vectorizer= TfidfVectorizer(stop_words='english')\n",
    "X_train_tfidf= vectorizer.fit_transform(X_train)\n",
    "X_test_tfidf =vectorizer.transform(X_test)\n",
    "print(X_train_tfidf)"
   ]
  },
  {
   "cell_type": "markdown",
   "id": "153cba63-966d-4222-b231-25878f41b8fa",
   "metadata": {},
   "source": [
    "## Binary Classification dengan Logistic Regression"
   ]
  },
  {
   "cell_type": "code",
   "execution_count": 20,
   "id": "f6bb0047-3d83-4d09-9323-d98eeac4fb23",
   "metadata": {},
   "outputs": [
    {
     "name": "stdout",
     "output_type": "stream",
     "text": [
      "PRED:0-SMS:Storming msg: Wen u lift d phne, u say \"HELLO\" Do u knw wt is d real meaning of HELLO?? . . . It's d name of a girl..! . . . Yes.. And u knw who is dat girl?? \"Margaret Hello\" She is d girlfrnd f Grahmbell who invnted telphone... . . . . Moral:One can 4get d name of a person, bt not his girlfrnd... G o o d n i g h t . . .@\n",
      "\n",
      "PRED:0-SMS:<Forwarded from 448712404000>Please CALL 08712404000 immediately as there is an urgent message waiting for you.\n",
      "\n",
      "PRED:0-SMS:And also I've sorta blown him off a couple times recently so id rather not text him out of the blue looking for weed\n",
      "\n",
      "PRED:0-SMS:Sir Goodmorning, Once free call me.\n",
      "\n",
      "PRED:0-SMS:All will come alive.better correct any good looking figure there itself..\n",
      "\n"
     ]
    }
   ],
   "source": [
    "from sklearn.linear_model import LogisticRegression\n",
    "model =LogisticRegression()\n",
    "model.fit(X_train_tfidf,y_train)\n",
    "y_pred= model.predict(X_test_tfidf)\n",
    "for pred,sms in zip(y_pred[:5],X_test[:5]):\n",
    "    print(f'PRED:{pred}-SMS:{sms}\\n')"
   ]
  },
  {
   "cell_type": "markdown",
   "id": "7ded94f6-cadd-4d63-9be4-d082d7e030c3",
   "metadata": {},
   "source": [
    "## Evaluation Metrics pada Binary Classification\r\n",
    "\r\n",
    "- Confusion Matrix  \r\n",
    "- Accuracy  \r\n",
    "- Precission & Recall  \r\n",
    "- F1 Score  \r\n",
    "- ROC  \r\n",
    "\r\n",
    "## Terminologi Dasar\r\n",
    "\r\n",
    "- True Positive (TP)  \r\n",
    "- True Negative (TN)  \r\n",
    "- False Positive (FP)  \r\n",
    "- False Negative (FN)"
   ]
  },
  {
   "cell_type": "markdown",
   "id": "8b67f81a-b28c-4b87-8e52-9b1b346defb9",
   "metadata": {},
   "source": [
    "### Confusion Matrix"
   ]
  },
  {
   "cell_type": "code",
   "execution_count": 26,
   "id": "83372cdf-eb79-42e5-b3d2-a1295948207c",
   "metadata": {},
   "outputs": [
    {
     "data": {
      "text/plain": [
       "array([[1207,    1],\n",
       "       [  47,  138]], dtype=int64)"
      ]
     },
     "execution_count": 26,
     "metadata": {},
     "output_type": "execute_result"
    }
   ],
   "source": [
    "from sklearn.metrics import confusion_matrix\n",
    "matrix = confusion_matrix(y_test,y_pred)\n",
    "matrix"
   ]
  },
  {
   "cell_type": "code",
   "execution_count": 28,
   "id": "c96300e4-bd2d-43cd-8862-a29a931f1b09",
   "metadata": {},
   "outputs": [
    {
     "name": "stdout",
     "output_type": "stream",
     "text": [
      "TN:1207\n",
      "FP:1\n",
      "FN:47\n",
      "TP:138\n"
     ]
    }
   ],
   "source": [
    "tn,fp,fn,tp= matrix.ravel()\n",
    "print(f'TN:{tn}')\n",
    "print(f'FP:{fp}')\n",
    "print(f'FN:{fn}')\n",
    "print(f'TP:{tp}')"
   ]
  },
  {
   "cell_type": "code",
   "execution_count": 30,
   "id": "d434d892-0c26-407b-a73c-6bed9d95bab6",
   "metadata": {},
   "outputs": [
    {
     "data": {
      "image/png": "[encoded data removed]",
      "text/plain": [
       "<Figure size 480x480 with 2 Axes>"
      ]
     },
     "metadata": {},
     "output_type": "display_data"
    }
   ],
   "source": [
    "import matplotlib.pyplot as plt\n",
    "plt.matshow(matrix)\n",
    "plt.colorbar()\n",
    "plt.title('Confusion Matrix')\n",
    "plt.ylabel('True label')\n",
    "plt.xlabel('Predicted label')\n",
    "plt.show()"
   ]
  },
  {
   "cell_type": "markdown",
   "id": "ea8621d7-9edc-447b-8f67-f6470fe9e093",
   "metadata": {},
   "source": [
    "### Accuracy"
   ]
  },
  {
   "cell_type": "code",
   "execution_count": 33,
   "id": "df927356-5dbc-483d-9635-d1dea93dfabc",
   "metadata": {},
   "outputs": [
    {
     "data": {
      "text/plain": [
       "0.9655419956927495"
      ]
     },
     "execution_count": 33,
     "metadata": {},
     "output_type": "execute_result"
    }
   ],
   "source": [
    "from sklearn.metrics import accuracy_score\n",
    "accuracy_score(y_test, y_pred)"
   ]
  },
  {
   "cell_type": "markdown",
   "id": "bf8a31ab-7c64-460b-b681-9f666d5a278e",
   "metadata": {},
   "source": [
    "### Precission & Recall"
   ]
  },
  {
   "cell_type": "markdown",
   "id": "64e38303-fb9f-4a5e-b778-c284e92ad0e0",
   "metadata": {},
   "source": [
    "#### Precission or Positive Predictive Value (PPV)"
   ]
  },
  {
   "cell_type": "code",
   "execution_count": 40,
   "id": "6239e493-b9f1-4c1c-9c17-3c0cc3fc4119",
   "metadata": {},
   "outputs": [
    {
     "data": {
      "text/plain": [
       "0.9928057553956835"
      ]
     },
     "execution_count": 40,
     "metadata": {},
     "output_type": "execute_result"
    }
   ],
   "source": [
    "from sklearn.metrics import precision_score\n",
    "precision_score(y_test,y_pred)"
   ]
  },
  {
   "cell_type": "markdown",
   "id": "2438b3d3-ac1e-4463-aad7-c358974aee20",
   "metadata": {},
   "source": [
    "#### Recall or True Positive Rate (TPR) or Sensitivity"
   ]
  },
  {
   "cell_type": "code",
   "execution_count": 43,
   "id": "2d3c6554-ff17-4ff7-b864-695868fd9302",
   "metadata": {},
   "outputs": [
    {
     "data": {
      "text/plain": [
       "0.745945945945946"
      ]
     },
     "execution_count": 43,
     "metadata": {},
     "output_type": "execute_result"
    }
   ],
   "source": [
    "from sklearn.metrics import recall_score\n",
    "recall_score(y_test,y_pred)"
   ]
  },
  {
   "cell_type": "markdown",
   "id": "dab2d654-6a1d-483f-9214-2bdf46cbfedf",
   "metadata": {},
   "source": [
    "### F1-Score"
   ]
  },
  {
   "cell_type": "code",
   "execution_count": 46,
   "id": "a2ba0166-8253-4a9d-abc2-7d5ccd8e3f8a",
   "metadata": {},
   "outputs": [
    {
     "data": {
      "text/plain": [
       "0.8518518518518519"
      ]
     },
     "execution_count": 46,
     "metadata": {},
     "output_type": "execute_result"
    }
   ],
   "source": [
    "from sklearn.metrics import f1_score\n",
    "f1_score(y_test,y_pred)"
   ]
  },
  {
   "cell_type": "markdown",
   "id": "b10a84fa-0aa2-4047-b8f2-3b0150a151e5",
   "metadata": {},
   "source": [
    "### ROC: Receiver Operating Characteristic"
   ]
  },
  {
   "cell_type": "code",
   "execution_count": 49,
   "id": "e749084c-7c47-4cb9-9012-bd93124c0f4a",
   "metadata": {},
   "outputs": [
    {
     "data": {
      "image/png": "[encoded data removed]",
      "text/plain": [
       "<Figure size 640x480 with 1 Axes>"
      ]
     },
     "metadata": {},
     "output_type": "display_data"
    }
   ],
   "source": [
    "from sklearn.metrics import roc_curve, auc\n",
    "prob_estimates =model.predict_proba(X_test_tfidf)\n",
    "fpr,tpr,threshhold= roc_curve(y_test,prob_estimates[:,1])\n",
    "nilai_auc =auc(fpr,tpr)\n",
    "plt.plot(fpr,tpr,'b',label=f'AUC={nilai_auc}')\n",
    "plt.plot([0,1],[0,1],'r--',label='Random CLassifier')\n",
    "plt.title('ROC: Receiver Operating Characteristic')\n",
    "plt.xlabel('Fallout or False Positive Rate')\n",
    "plt.ylabel('Recall or True Positive Rate')\n",
    "plt.legend()\n",
    "plt.show()"
   ]
  },
  {
   "cell_type": "code",
   "execution_count": null,
   "id": "cf62450c-6d32-44d8-ac3d-caf977f5b4e7",
   "metadata": {},
   "outputs": [],
   "source": []
  }
 ],
 "metadata": {
  "kernelspec": {
   "display_name": "Python 3 (ipykernel)",
   "language": "python",
   "name": "python3"
  },
  "language_info": {
   "codemirror_mode": {
    "name": "ipython",
    "version": 3
   },
   "file_extension": ".py",
   "mimetype": "text/x-python",
   "name": "python",
   "nbconvert_exporter": "python",
   "pygments_lexer": "ipython3",
   "version": "3.12.3"
  }
 },
 "nbformat": 4,
 "nbformat_minor": 5
}
