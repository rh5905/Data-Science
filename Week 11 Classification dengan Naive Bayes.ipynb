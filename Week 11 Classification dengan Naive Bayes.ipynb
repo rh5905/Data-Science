{
 "cells": [
  {
   "cell_type": "markdown",
   "id": "12627207-0ba8-4d8f-af64-c7f212d3ea54",
   "metadata": {},
   "source": [
    "# 13 Classification dengan Naive Bayes"
   ]
  },
  {
   "cell_type": "markdown",
   "id": "835efd4f-84b5-4caa-8ea6-f8ddf97489d0",
   "metadata": {},
   "source": [
    "## Dataset: Breast Cancer Wisconsin (Diagnostic)"
   ]
  },
  {
   "cell_type": "markdown",
   "id": "eeca98ad-ceed-4dde-9fdd-9f0ae69f5493",
   "metadata": {},
   "source": [
    "### Load Dataset"
   ]
  },
  {
   "cell_type": "code",
   "execution_count": 5,
   "id": "926022d7-51a1-480d-8477-33a0ef6de3d3",
   "metadata": {},
   "outputs": [
    {
     "name": "stdout",
     "output_type": "stream",
     "text": [
      ".. _breast_cancer_dataset:\n",
      "\n",
      "Breast cancer wisconsin (diagnostic) dataset\n",
      "--------------------------------------------\n",
      "\n",
      "**Data Set Characteristics:**\n",
      "\n",
      ":Number of Instances: 569\n",
      "\n",
      ":Number of Attributes: 30 numeric, predictive attributes and the class\n",
      "\n",
      ":Attribute Information:\n",
      "    - radius (mean of distances from center to points on the perimeter)\n",
      "    - texture (standard deviation of gray-scale values)\n",
      "    - perimeter\n",
      "    - area\n",
      "    - smoothness (local variation in radius lengths)\n",
      "    - compactness (perimeter^2 / area - 1.0)\n",
      "    - concavity (severity of concave portions of the contour)\n",
      "    - concave points (number of concave portions of the contour)\n",
      "    - symmetry\n",
      "    - fractal dimension (\"coastline approximation\" - 1)\n",
      "\n",
      "    The mean, standard error, and \"worst\" or largest (mean of the three\n",
      "    worst/largest values) of these features were computed for each image,\n",
      "    resulting in 30 features.  For instance, field 0 is Mean Radius, field\n",
      "    10 is Radius SE, field 20 is Worst Radius.\n",
      "\n",
      "    - class:\n",
      "            - WDBC-Malignant\n",
      "            - WDBC-Benign\n",
      "\n",
      ":Summary Statistics:\n",
      "\n",
      "===================================== ====== ======\n",
      "                                        Min    Max\n",
      "===================================== ====== ======\n",
      "radius (mean):                        6.981  28.11\n",
      "texture (mean):                       9.71   39.28\n",
      "perimeter (mean):                     43.79  188.5\n",
      "area (mean):                          143.5  2501.0\n",
      "smoothness (mean):                    0.053  0.163\n",
      "compactness (mean):                   0.019  0.345\n",
      "concavity (mean):                     0.0    0.427\n",
      "concave points (mean):                0.0    0.201\n",
      "symmetry (mean):                      0.106  0.304\n",
      "fractal dimension (mean):             0.05   0.097\n",
      "radius (standard error):              0.112  2.873\n",
      "texture (standard error):             0.36   4.885\n",
      "perimeter (standard error):           0.757  21.98\n",
      "area (standard error):                6.802  542.2\n",
      "smoothness (standard error):          0.002  0.031\n",
      "compactness (standard error):         0.002  0.135\n",
      "concavity (standard error):           0.0    0.396\n",
      "concave points (standard error):      0.0    0.053\n",
      "symmetry (standard error):            0.008  0.079\n",
      "fractal dimension (standard error):   0.001  0.03\n",
      "radius (worst):                       7.93   36.04\n",
      "texture (worst):                      12.02  49.54\n",
      "perimeter (worst):                    50.41  251.2\n",
      "area (worst):                         185.2  4254.0\n",
      "smoothness (worst):                   0.071  0.223\n",
      "compactness (worst):                  0.027  1.058\n",
      "concavity (worst):                    0.0    1.252\n",
      "concave points (worst):               0.0    0.291\n",
      "symmetry (worst):                     0.156  0.664\n",
      "fractal dimension (worst):            0.055  0.208\n",
      "===================================== ====== ======\n",
      "\n",
      ":Missing Attribute Values: None\n",
      "\n",
      ":Class Distribution: 212 - Malignant, 357 - Benign\n",
      "\n",
      ":Creator:  Dr. William H. Wolberg, W. Nick Street, Olvi L. Mangasarian\n",
      "\n",
      ":Donor: Nick Street\n",
      "\n",
      ":Date: November, 1995\n",
      "\n",
      "This is a copy of UCI ML Breast Cancer Wisconsin (Diagnostic) datasets.\n",
      "https://goo.gl/U2Uwz2\n",
      "\n",
      "Features are computed from a digitized image of a fine needle\n",
      "aspirate (FNA) of a breast mass.  They describe\n",
      "characteristics of the cell nuclei present in the image.\n",
      "\n",
      "Separating plane described above was obtained using\n",
      "Multisurface Method-Tree (MSM-T) [K. P. Bennett, \"Decision Tree\n",
      "Construction Via Linear Programming.\" Proceedings of the 4th\n",
      "Midwest Artificial Intelligence and Cognitive Science Society,\n",
      "pp. 97-101, 1992], a classification method which uses linear\n",
      "programming to construct a decision tree.  Relevant features\n",
      "were selected using an exhaustive search in the space of 1-4\n",
      "features and 1-3 separating planes.\n",
      "\n",
      "The actual linear program used to obtain the separating plane\n",
      "in the 3-dimensional space is that described in:\n",
      "[K. P. Bennett and O. L. Mangasarian: \"Robust Linear\n",
      "Programming Discrimination of Two Linearly Inseparable Sets\",\n",
      "Optimization Methods and Software 1, 1992, 23-34].\n",
      "\n",
      "This database is also available through the UW CS ftp server:\n",
      "\n",
      "ftp ftp.cs.wisc.edu\n",
      "cd math-prog/cpo-dataset/machine-learn/WDBC/\n",
      "\n",
      "|details-start|\n",
      "**References**\n",
      "|details-split|\n",
      "\n",
      "- W.N. Street, W.H. Wolberg and O.L. Mangasarian. Nuclear feature extraction\n",
      "  for breast tumor diagnosis. IS&T/SPIE 1993 International Symposium on\n",
      "  Electronic Imaging: Science and Technology, volume 1905, pages 861-870,\n",
      "  San Jose, CA, 1993.\n",
      "- O.L. Mangasarian, W.N. Street and W.H. Wolberg. Breast cancer diagnosis and\n",
      "  prognosis via linear programming. Operations Research, 43(4), pages 570-577,\n",
      "  July-August 1995.\n",
      "- W.H. Wolberg, W.N. Street, and O.L. Mangasarian. Machine learning techniques\n",
      "  to diagnose breast cancer from fine-needle aspirates. Cancer Letters 77 (1994)\n",
      "  163-171.\n",
      "\n",
      "|details-end|\n",
      "\n"
     ]
    }
   ],
   "source": [
    "from sklearn.datasets import load_breast_cancer\n",
    "print(load_breast_cancer().DESCR)"
   ]
  },
  {
   "cell_type": "code",
   "execution_count": 7,
   "id": "8db3a4cc-16a9-4c30-b0d4-bd4df948257d",
   "metadata": {},
   "outputs": [
    {
     "data": {
      "text/plain": [
       "\u001b[1;31mSignature:\u001b[0m \u001b[0mload_breast_cancer\u001b[0m\u001b[1;33m(\u001b[0m\u001b[1;33m*\u001b[0m\u001b[1;33m,\u001b[0m \u001b[0mreturn_X_y\u001b[0m\u001b[1;33m=\u001b[0m\u001b[1;32mFalse\u001b[0m\u001b[1;33m,\u001b[0m \u001b[0mas_frame\u001b[0m\u001b[1;33m=\u001b[0m\u001b[1;32mFalse\u001b[0m\u001b[1;33m)\u001b[0m\u001b[1;33m\u001b[0m\u001b[1;33m\u001b[0m\u001b[0m\n",
       "\u001b[1;31mDocstring:\u001b[0m\n",
       "Load and return the breast cancer wisconsin dataset (classification).\n",
       "\n",
       "The breast cancer dataset is a classic and very easy binary classification\n",
       "dataset.\n",
       "\n",
       "=================   ==============\n",
       "Classes                          2\n",
       "Samples per class    212(M),357(B)\n",
       "Samples total                  569\n",
       "Dimensionality                  30\n",
       "Features            real, positive\n",
       "=================   ==============\n",
       "\n",
       "The copy of UCI ML Breast Cancer Wisconsin (Diagnostic) dataset is\n",
       "downloaded from:\n",
       "https://archive.ics.uci.edu/dataset/17/breast+cancer+wisconsin+diagnostic\n",
       "\n",
       "Read more in the :ref:`User Guide <breast_cancer_dataset>`.\n",
       "\n",
       "Parameters\n",
       "----------\n",
       "return_X_y : bool, default=False\n",
       "    If True, returns ``(data, target)`` instead of a Bunch object.\n",
       "    See below for more information about the `data` and `target` object.\n",
       "\n",
       "    .. versionadded:: 0.18\n",
       "\n",
       "as_frame : bool, default=False\n",
       "    If True, the data is a pandas DataFrame including columns with\n",
       "    appropriate dtypes (numeric). The target is\n",
       "    a pandas DataFrame or Series depending on the number of target columns.\n",
       "    If `return_X_y` is True, then (`data`, `target`) will be pandas\n",
       "    DataFrames or Series as described below.\n",
       "\n",
       "    .. versionadded:: 0.23\n",
       "\n",
       "Returns\n",
       "-------\n",
       "data : :class:`~sklearn.utils.Bunch`\n",
       "    Dictionary-like object, with the following attributes.\n",
       "\n",
       "    data : {ndarray, dataframe} of shape (569, 30)\n",
       "        The data matrix. If `as_frame=True`, `data` will be a pandas\n",
       "        DataFrame.\n",
       "    target : {ndarray, Series} of shape (569,)\n",
       "        The classification target. If `as_frame=True`, `target` will be\n",
       "        a pandas Series.\n",
       "    feature_names : ndarray of shape (30,)\n",
       "        The names of the dataset columns.\n",
       "    target_names : ndarray of shape (2,)\n",
       "        The names of target classes.\n",
       "    frame : DataFrame of shape (569, 31)\n",
       "        Only present when `as_frame=True`. DataFrame with `data` and\n",
       "        `target`.\n",
       "\n",
       "        .. versionadded:: 0.23\n",
       "    DESCR : str\n",
       "        The full description of the dataset.\n",
       "    filename : str\n",
       "        The path to the location of the data.\n",
       "\n",
       "        .. versionadded:: 0.20\n",
       "\n",
       "(data, target) : tuple if ``return_X_y`` is True\n",
       "    A tuple of two ndarrays by default. The first contains a 2D ndarray of\n",
       "    shape (569, 30) with each row representing one sample and each column\n",
       "    representing the features. The second ndarray of shape (569,) contains\n",
       "    the target samples.  If `as_frame=True`, both arrays are pandas objects,\n",
       "    i.e. `X` a dataframe and `y` a series.\n",
       "\n",
       "    .. versionadded:: 0.18\n",
       "\n",
       "Examples\n",
       "--------\n",
       "Let's say you are interested in the samples 10, 50, and 85, and want to\n",
       "know their class name.\n",
       "\n",
       ">>> from sklearn.datasets import load_breast_cancer\n",
       ">>> data = load_breast_cancer()\n",
       ">>> data.target[[10, 50, 85]]\n",
       "array([0, 1, 0])\n",
       ">>> list(data.target_names)\n",
       "['malignant', 'benign']\n",
       "\u001b[1;31mFile:\u001b[0m      c:\\users\\gaming3\\anaconda3\\lib\\site-packages\\sklearn\\datasets\\_base.py\n",
       "\u001b[1;31mType:\u001b[0m      function"
      ]
     },
     "metadata": {},
     "output_type": "display_data"
    }
   ],
   "source": [
    "load_breast_cancer?"
   ]
  },
  {
   "cell_type": "code",
   "execution_count": 9,
   "id": "6314ae44-08fa-49fa-813a-775559473d19",
   "metadata": {},
   "outputs": [
    {
     "data": {
      "text/plain": [
       "(569, 30)"
      ]
     },
     "execution_count": 9,
     "metadata": {},
     "output_type": "execute_result"
    }
   ],
   "source": [
    "X,y= load_breast_cancer(return_X_y=True)\n",
    "X.shape"
   ]
  },
  {
   "cell_type": "markdown",
   "id": "a4045c87-bd07-4e14-9c40-b4837d054ab7",
   "metadata": {},
   "source": [
    "### Training & Testing Set"
   ]
  },
  {
   "cell_type": "code",
   "execution_count": 12,
   "id": "eedaebd9-b4d2-428e-ab4a-a9bb5119ee9e",
   "metadata": {},
   "outputs": [
    {
     "name": "stdout",
     "output_type": "stream",
     "text": [
      "X_train shape(455, 30)\n",
      "X_test shape(114, 30)\n"
     ]
    }
   ],
   "source": [
    "from sklearn.model_selection import train_test_split\n",
    "X_train, X_test, y_train, y_test = train_test_split(X,y,test_size=0.2,random_state=0)\n",
    "print(f'X_train shape{X_train.shape}')\n",
    "print(f'X_test shape{X_test.shape}')"
   ]
  },
  {
   "cell_type": "markdown",
   "id": "2dee35d2-0aef-494c-b6aa-22a44900f63c",
   "metadata": {},
   "source": [
    "## Naive Bayes dengan Scikit Learn"
   ]
  },
  {
   "cell_type": "code",
   "execution_count": 15,
   "id": "265d00c2-95e4-464a-ab8b-a4b648db43c4",
   "metadata": {},
   "outputs": [
    {
     "data": {
      "text/plain": [
       "0.9298245614035088"
      ]
     },
     "execution_count": 15,
     "metadata": {},
     "output_type": "execute_result"
    }
   ],
   "source": [
    "from sklearn.naive_bayes import GaussianNB\n",
    "from sklearn.metrics import accuracy_score\n",
    "model= GaussianNB()\n",
    "model.fit(X_train,y_train)\n",
    "y_pred =model.predict(X_test)\n",
    "accuracy_score(y_test,y_pred)"
   ]
  },
  {
   "cell_type": "code",
   "execution_count": 17,
   "id": "ac0e87d6-3059-4cce-8a79-fd17e0e4270a",
   "metadata": {},
   "outputs": [
    {
     "data": {
      "text/plain": [
       "0.9298245614035088"
      ]
     },
     "execution_count": 17,
     "metadata": {},
     "output_type": "execute_result"
    }
   ],
   "source": [
    "model.score(X_test,y_test)"
   ]
  },
  {
   "cell_type": "code",
   "execution_count": null,
   "id": "1e61917b-c588-4cae-acaa-3c36d48209e5",
   "metadata": {},
   "outputs": [],
   "source": []
  }
 ],
 "metadata": {
  "kernelspec": {
   "display_name": "Python 3 (ipykernel)",
   "language": "python",
   "name": "python3"
  },
  "language_info": {
   "codemirror_mode": {
    "name": "ipython",
    "version": 3
   },
   "file_extension": ".py",
   "mimetype": "text/x-python",
   "name": "python",
   "nbconvert_exporter": "python",
   "pygments_lexer": "ipython3",
   "version": "3.12.3"
  }
 },
 "nbformat": 4,
 "nbformat_minor": 5
}
